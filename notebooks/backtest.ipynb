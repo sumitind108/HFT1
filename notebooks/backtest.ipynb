{
 "cells": [
  {
   "cell_type": "code",
   "execution_count": null,
   "metadata": {
    "vscode": {
     "languageId": "plaintext"
    }
   },
   "outputs": [],
   "source": [
    "# In your Jupyter Notebook\n",
    "from clickhouse_driver import Client\n",
    "\n",
    "# Connect to ClickHouse\n",
    "client = Client(host='localhost')\n",
    "\n",
    "# Fetch historical order book data\n",
    "def fetch_historical_data():\n",
    "    result = client.execute('''\n",
    "        SELECT * FROM order_book\n",
    "        WHERE timestamp >= '2025-01-01'\n",
    "        ORDER BY timestamp DESC\n",
    "        LIMIT 100\n",
    "    ''')\n",
    "    return result\n",
    "\n",
    "data = fetch_historical_data()\n",
    "print(data)\n",
    "\n",
    "# This is your Jupyter notebook where you can test your strategies using the stored data. You can fetch the order book data from ClickHouse for historical analysis and backtesting.\n",
    "# Explanation: This notebook fetches historical data from ClickHouse and can be used to analyze past performance or test your trading strategies.\n"
   ]
  },
  {
   "cell_type": "code",
   "execution_count": null,
   "metadata": {
    "vscode": {
     "languageId": "plaintext"
    }
   },
   "outputs": [],
   "source": []
  }
 ],
 "metadata": {
  "language_info": {
   "name": "python"
  }
 },
 "nbformat": 4,
 "nbformat_minor": 2
}
